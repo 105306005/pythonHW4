{
 "cells": [
  {
   "cell_type": "code",
   "execution_count": 7,
   "metadata": {
    "collapsed": true
   },
   "outputs": [],
   "source": [
    "#HW3:猜數字"
   ]
  },
  {
   "cell_type": "code",
   "execution_count": 6,
   "metadata": {},
   "outputs": [
    {
     "name": "stdout",
     "output_type": "stream",
     "text": [
      "猜一個0~100的數字\n",
      "來隨便猜一個數字吧: 50\n",
      "喔你猜得太大囉\n",
      "來隨便猜一個數字吧: 25\n",
      "喔你猜得太大囉\n",
      "來隨便猜一個數字吧: 10\n",
      "喔你猜得太小囉\n",
      "來隨便猜一個數字吧: 15\n",
      "喔你猜得太小囉\n",
      "來隨便猜一個數字吧: 20\n",
      "喔你猜得太小囉\n",
      "來隨便猜一個數字吧: 23\n",
      "恭喜你猜對了！\n",
      "你猜了6次\n"
     ]
    }
   ],
   "source": [
    "import random\n",
    "ans =  random.randint(0,100) \n",
    "times = 0\n",
    "print('猜一個0~100的數字')\n",
    "\n",
    "while(True):\n",
    "    try:\n",
    "        guess = int(input('來隨便猜一個數字吧: '))\n",
    "    except:\n",
    "        print('請輸入數字喔小壞蛋，遊戲結束，答案是'+str(ans))\n",
    "        break\n",
    "    else:\n",
    "        times = times+1 #每猜一次就要+1\n",
    "        if (guess > ans):\n",
    "            print('喔你猜得太大囉')\n",
    "        elif (guess < ans):\n",
    "            print('喔你猜得太小囉')\n",
    "        else:\n",
    "            print('恭喜你猜對了！')\n",
    "            break\n",
    "print('你猜了'+str(times)+'次') "
   ]
  },
  {
   "cell_type": "code",
   "execution_count": null,
   "metadata": {
    "collapsed": true
   },
   "outputs": [],
   "source": []
  },
  {
   "cell_type": "code",
   "execution_count": null,
   "metadata": {
    "collapsed": true
   },
   "outputs": [],
   "source": []
  },
  {
   "cell_type": "code",
   "execution_count": null,
   "metadata": {
    "collapsed": true
   },
   "outputs": [],
   "source": []
  }
 ],
 "metadata": {
  "kernelspec": {
   "display_name": "Python 3",
   "language": "python",
   "name": "python3"
  },
  "language_info": {
   "codemirror_mode": {
    "name": "ipython",
    "version": 3
   },
   "file_extension": ".py",
   "mimetype": "text/x-python",
   "name": "python",
   "nbconvert_exporter": "python",
   "pygments_lexer": "ipython3",
   "version": "3.6.2"
  }
 },
 "nbformat": 4,
 "nbformat_minor": 2
}
