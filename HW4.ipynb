{
 "cells": [
  {
   "cell_type": "code",
   "execution_count": 1,
   "metadata": {
    "collapsed": true
   },
   "outputs": [],
   "source": [
    "#綜所稅試算:"
   ]
  },
  {
   "cell_type": "code",
   "execution_count": 2,
   "metadata": {},
   "outputs": [
    {
     "name": "stdout",
     "output_type": "stream",
     "text": [
      "60000\n",
      "3000\n"
     ]
    }
   ],
   "source": [
    "salary = input()\n",
    "salary =int(salary)\n",
    "if(salary<=540000):\n",
    "    percent = 5\n",
    "elif(salary<=1210000):\n",
    "    percent = 12\n",
    "elif(salary<=2420000):\n",
    "    percent = 20\n",
    "elif(salary<=4530000):\n",
    "    percent = 30\n",
    "elif(salary<=10310000):\n",
    "    percent = 40\n",
    "else:\n",
    "    percent = 45\n",
    "tax = salary *(percent/100)\n",
    "print(round(tax))"
   ]
  },
  {
   "cell_type": "code",
   "execution_count": 4,
   "metadata": {
    "collapsed": true
   },
   "outputs": [],
   "source": [
    "#計算複利得到的本利和 "
   ]
  },
  {
   "cell_type": "code",
   "execution_count": 5,
   "metadata": {},
   "outputs": [
    {
     "name": "stdout",
     "output_type": "stream",
     "text": [
      "1.2 5000 10\n",
      "6347\n"
     ]
    }
   ],
   "source": [
    "A, B, N= input().split()\n",
    "A = float(A)/100\n",
    "B = float(B)\n",
    "N = float(N)\n",
    "totalMoney = B * ((1+A)**(N*2))\n",
    "print(round(totalMoney))\n",
    "#A 利息%數、B 存款金額、N 存款累績年份\n",
    "\n",
    "#複利的計算公式是：本利和 = 本金 * ( (1+利率)^複利次數 )\n",
    "#使用 round()函式進行四捨五入，如: round(1234.567) >>> 1235"
   ]
  },
  {
   "cell_type": "code",
   "execution_count": 31,
   "metadata": {
    "collapsed": true
   },
   "outputs": [],
   "source": [
    "#算總和"
   ]
  },
  {
   "cell_type": "code",
   "execution_count": 32,
   "metadata": {},
   "outputs": [
    {
     "name": "stdout",
     "output_type": "stream",
     "text": [
      "請輸入數字100\n",
      "1~100的總和是5050\n"
     ]
    }
   ],
   "source": [
    "a = 0\n",
    "number = int(input(\"請輸入數字\"))\n",
    "for i in range(number+1):\n",
    "    a+=i\n",
    "print(\"1~\"+str(number)+\"的總和是\"+str(a))"
   ]
  },
  {
   "cell_type": "code",
   "execution_count": 49,
   "metadata": {},
   "outputs": [],
   "source": [
    "#質因數分解"
   ]
  },
  {
   "cell_type": "code",
   "execution_count": null,
   "metadata": {},
   "outputs": [
    {
     "name": "stdout",
     "output_type": "stream",
     "text": [
      "請輸入要質因數分解的數字90\n",
      "90= 2*3*3*5"
     ]
    }
   ],
   "source": [
    "n = int(input('請輸入要質因數分解的數字'))\n",
    "print (str(n)+'= ',end=\"\")\n",
    "while(True):\n",
    "    for i in range(2,int(n+1)):\n",
    "            if (n%i)==0:\n",
    "                n/=i\n",
    "                if(n == 1):\n",
    "                    print (i,end=\"\")\n",
    "                else:\n",
    "                    print (str(i)+\"*\",end=\"\"),\n",
    "                break"
   ]
  },
  {
   "cell_type": "code",
   "execution_count": null,
   "metadata": {
    "collapsed": true
   },
   "outputs": [],
   "source": []
  },
  {
   "cell_type": "code",
   "execution_count": null,
   "metadata": {
    "collapsed": true
   },
   "outputs": [],
   "source": []
  },
  {
   "cell_type": "code",
   "execution_count": null,
   "metadata": {
    "collapsed": true
   },
   "outputs": [],
   "source": []
  },
  {
   "cell_type": "code",
   "execution_count": null,
   "metadata": {
    "collapsed": true
   },
   "outputs": [],
   "source": []
  },
  {
   "cell_type": "code",
   "execution_count": null,
   "metadata": {
    "collapsed": true
   },
   "outputs": [],
   "source": []
  }
 ],
 "metadata": {
  "kernelspec": {
   "display_name": "Python 3",
   "language": "python",
   "name": "python3"
  },
  "language_info": {
   "codemirror_mode": {
    "name": "ipython",
    "version": 3
   },
   "file_extension": ".py",
   "mimetype": "text/x-python",
   "name": "python",
   "nbconvert_exporter": "python",
   "pygments_lexer": "ipython3",
   "version": "3.6.2"
  }
 },
 "nbformat": 4,
 "nbformat_minor": 2
}
