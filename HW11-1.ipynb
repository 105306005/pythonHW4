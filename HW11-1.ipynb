{
 "cells": [
  {
   "cell_type": "markdown",
   "metadata": {},
   "source": [
    "# PPT搜索二手遊戲片"
   ]
  },
  {
   "cell_type": "markdown",
   "metadata": {},
   "source": [
    "有經驗的玩家都知道，要買到目前二手市場最公道、最甜價格的二手片，絕對要在ptt的gamesale版，完全不用擔心買貴!"
   ]
  },
  {
   "cell_type": "markdown",
   "metadata": {},
   "source": [
    "但又不想花時間刷PTT，要怎麼快速搜到想要的遊戲呢？"
   ]
  },
  {
   "cell_type": "markdown",
   "metadata": {},
   "source": [
    "因此使用爬蟲，方便玩家從PPT gamesale版上找到自己想搜索的遊戲"
   ]
  },
  {
   "cell_type": "code",
   "execution_count": 6,
   "metadata": {},
   "outputs": [
    {
     "name": "stdout",
     "output_type": "stream",
     "text": [
      "遊戲搜索之表特版-方便玩家從PPT gamesale版上找到自己想搜索的遊戲\n",
      "請輸入遊戲類別（PS4或NS）:  NS\n",
      "請輸入遊戲名稱:  薩爾達傳說\n",
      "要爬幾頁呢 :  10\n",
      "[NS ] 售/換 薩爾達傳說 曠野之息: https://www.ptt.cc/bbs/Gamesale/M.1575380181.A.15B.html\n",
      "[NS] 售/換 薩爾達傳說 曠野之息: https://www.ptt.cc/bbs/Gamesale/M.1575373409.A.14D.html\n",
      "[NS ] 售 薩爾達傳說 - 曠野之息（暫售）: https://www.ptt.cc/bbs/Gamesale/M.1575353299.A.377.html\n",
      "[NS ] 售 薩爾達傳說 織夢島 林克: https://www.ptt.cc/bbs/Gamesale/M.1575348597.A.D8A.html\n",
      "[NS ] 售 薩爾達傳說:曠野之息: https://www.ptt.cc/bbs/Gamesale/M.1575348604.A.963.html\n",
      "[NS ] 售 薩爾達傳說曠野之息: https://www.ptt.cc/bbs/Gamesale/M.1575346995.A.236.html\n",
      "[NS ] 徵 薩爾達傳說 曠野之息: https://www.ptt.cc/bbs/Gamesale/M.1575339645.A.315.html\n",
      "[NS ] 徵 薩爾達傳說 荒野之息: https://www.ptt.cc/bbs/Gamesale/M.1575337974.A.F76.html\n",
      "爬完囉\n"
     ]
    }
   ],
   "source": [
    "print(\"遊戲搜索之表特版-方便玩家從PPT gamesale版上找到自己想搜索的遊戲\")\n",
    "#PS4遊戲名稱舉例：王國之心、尼爾、惡魔獵人...\n",
    "#NS遊戲名稱舉例：薩爾達傳說、馬力歐、刀劍神域...\n",
    "import requests\n",
    "import pyquery\n",
    "now_url = 'https://www.ptt.cc/bbs/Gamesale/index.html'\n",
    "game_type = input(\"請輸入遊戲類別（PS4或NS）:  \")\n",
    "game_name = input(\"請輸入遊戲名稱:  \")\n",
    "number = input(\"要爬幾頁呢 :  \")\n",
    "for j in range(int(number)):\n",
    "    #print(\"爬蟲在第\"+str(int(j)+1)+\"頁爬呀爬\")\n",
    "    req = requests.get(now_url)\n",
    "    page = req.text\n",
    "    pq = pyquery.PyQuery(page)\n",
    "    article_title = pq('.title').find('a')\n",
    "    \n",
    "    for data in article_title: \n",
    "        if game_type in pq(data).text() and game_name in pq(data).text() and \"售出\" not in pq(data).text():\n",
    "            print(pq(data).text()+ \": https://www.ptt.cc\"+pq(data).attr('href'))\n",
    "            \n",
    "    next_page_url = pq('.btn-group.btn-group-paging').find('a')  \n",
    "    #print(\"本頁\") #print(now_url)\n",
    "    now_url = (\"https://www.ptt.cc\"+pq(next_page_url[1]).attr('href'))\n",
    "    #print(\"下一頁\") #print(now_url)\n",
    "print(\"爬完囉\")"
   ]
  },
  {
   "cell_type": "code",
   "execution_count": null,
   "metadata": {
    "collapsed": true
   },
   "outputs": [],
   "source": []
  }
 ],
 "metadata": {
  "kernelspec": {
   "display_name": "Python 3",
   "language": "python",
   "name": "python3"
  },
  "language_info": {
   "codemirror_mode": {
    "name": "ipython",
    "version": 3
   },
   "file_extension": ".py",
   "mimetype": "text/x-python",
   "name": "python",
   "nbconvert_exporter": "python",
   "pygments_lexer": "ipython3",
   "version": "3.6.2"
  }
 },
 "nbformat": 4,
 "nbformat_minor": 2
}
