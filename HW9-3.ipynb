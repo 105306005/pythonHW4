{
 "cells": [
  {
   "cell_type": "markdown",
   "metadata": {},
   "source": [
    "# 密碼檢驗"
   ]
  },
  {
   "cell_type": "markdown",
   "metadata": {},
   "source": [
    "檢驗該密碼是否為六個字以上，其中至少要包含一個大寫英文字母、一個小寫英文字母與一個阿拉伯數字。"
   ]
  },
  {
   "cell_type": "code",
   "execution_count": 8,
   "metadata": {},
   "outputs": [
    {
     "name": "stdout",
     "output_type": "stream",
     "text": [
      "請輸入密碼：Mssss222\n",
      "True\n"
     ]
    }
   ],
   "source": [
    "password = input(\"請輸入密碼：\")\n",
    "sL = bL = n = 0\n",
    "if (len(password) >= 6):\n",
    "    for i in range(len(password)):\n",
    "        if (password[i].islower()):\n",
    "            sL = 1\n",
    "        if (password[i].isupper()):\n",
    "            bL = 1\n",
    "        if (password[i].isdigit()):\n",
    "            n = 1\n",
    "    if (sL*bL*n):\n",
    "        print(\"True\")\n",
    "    else:\n",
    "        print(\"False\")\n",
    "else:\n",
    "    print(\"False\")"
   ]
  }
 ],
 "metadata": {
  "kernelspec": {
   "display_name": "Python 3",
   "language": "python",
   "name": "python3"
  },
  "language_info": {
   "codemirror_mode": {
    "name": "ipython",
    "version": 3
   },
   "file_extension": ".py",
   "mimetype": "text/x-python",
   "name": "python",
   "nbconvert_exporter": "python",
   "pygments_lexer": "ipython3",
   "version": "3.6.2"
  }
 },
 "nbformat": 4,
 "nbformat_minor": 2
}
