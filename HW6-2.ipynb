{
 "cells": [
  {
   "cell_type": "code",
   "execution_count": null,
   "metadata": {
    "collapsed": true
   },
   "outputs": [],
   "source": [
    "#ㄐ"
   ]
  },
  {
   "cell_type": "code",
   "execution_count": 23,
   "metadata": {},
   "outputs": [
    {
     "name": "stdout",
     "output_type": "stream",
     "text": [
      "請出招(0:剪刀,1:石頭,2:布) : 1\n",
      "你出:石頭\n",
      "電腦出:剪刀\n",
      "你贏了\n",
      "請出招(0:剪刀,1:石頭,2:布) : 2\n",
      "你出:布\n",
      "電腦出:布\n",
      "平手\n",
      "請出招(0:剪刀,1:石頭,2:布) : 1\n",
      "你出:石頭\n",
      "電腦出:剪刀\n",
      "你贏了\n",
      "=============================================\n",
      "你總共贏 : 2局\n",
      "你總共輸 : 0局\n",
      "平手 : 1局\n"
     ]
    }
   ],
   "source": [
    "import random\n",
    "\n",
    "gametime = 0\n",
    "youwin = 0\n",
    "youlose = 0\n",
    "draw = 0\n",
    "while(gametime < 3):\n",
    "    ComNum = random.randrange(0,3)\n",
    "    Ynum = input(\"請出招(0:剪刀,1:石頭,2:布) : \")\n",
    "    if(Ynum == \"0\"):\n",
    "        print(\"你出:剪刀\")\n",
    "    elif(Ynum == \"1\"):\n",
    "        print(\"你出:石頭\")\n",
    "    elif(Ynum == \"2\"):\n",
    "        print(\"你出:布\")\n",
    "        \n",
    "    if(ComNum == 0):\n",
    "        print(\"電腦出:剪刀\")\n",
    "    elif(ComNum == 1):\n",
    "        print(\"電腦出:石頭\")\n",
    "    elif(ComNum == 2):\n",
    "        print(\"電腦出:布\")\n",
    "\n",
    "    if (int(Ynum) >= 3):\n",
    "        print(\"Please Inpu 0-2\")\n",
    "        exit\n",
    "    elif (ComNum==int(Ynum)):\n",
    "        print(\"平手\")\n",
    "        gametime += 1\n",
    "        draw += 1\n",
    "    elif (ComNum==0 and Ynum==2) or (ComNum==1 and Ynum==0) or (ComNum==2 and Ynum==1):\n",
    "        print(\"你輸了\")\n",
    "        gametime += 1\n",
    "        youlose += 1\n",
    "    else:\n",
    "        print(\"你贏了\")\n",
    "        gametime += 1\n",
    "        youwin = youwin +1\n",
    "        \n",
    "print(\"=============================================\")\n",
    "print(\"你總共贏 : \"+str(youwin)+\"局\")\n",
    "print(\"你總共輸 : \"+str(youlose)+\"局\")\n",
    "print(\"平手 : \"+str(draw)+\"局\")"
   ]
  },
  {
   "cell_type": "code",
   "execution_count": null,
   "metadata": {
    "collapsed": true
   },
   "outputs": [],
   "source": []
  },
  {
   "cell_type": "code",
   "execution_count": null,
   "metadata": {
    "collapsed": true
   },
   "outputs": [],
   "source": []
  }
 ],
 "metadata": {
  "kernelspec": {
   "display_name": "Python 3",
   "language": "python",
   "name": "python3"
  },
  "language_info": {
   "codemirror_mode": {
    "name": "ipython",
    "version": 3
   },
   "file_extension": ".py",
   "mimetype": "text/x-python",
   "name": "python",
   "nbconvert_exporter": "python",
   "pygments_lexer": "ipython3",
   "version": "3.6.2"
  }
 },
 "nbformat": 4,
 "nbformat_minor": 2
}
